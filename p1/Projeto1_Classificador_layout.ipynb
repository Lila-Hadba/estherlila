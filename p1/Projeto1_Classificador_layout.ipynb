{
 "cells": [
  {
   "cell_type": "markdown",
   "metadata": {},
   "source": [
    "# Projeto 1 - Ciência dos Dados"
   ]
  },
  {
   "cell_type": "markdown",
   "metadata": {},
   "source": [
    "Nome: Esther Dagir\n",
    "\n",
    "Nome: Lila Hadba"
   ]
  },
  {
   "cell_type": "markdown",
   "metadata": {},
   "source": [
    "**Atenção:** Serão permitidos grupos de três pessoas, mas com uma rubrica mais exigente. Grupos deste tamanho precisarão fazer um questionário de avaliação de trabalho em equipe"
   ]
  },
  {
   "cell_type": "markdown",
   "metadata": {},
   "source": [
    "___\n",
    "Carregando algumas bibliotecas:"
   ]
  },
  {
   "cell_type": "code",
   "execution_count": 1,
   "metadata": {},
   "outputs": [],
   "source": [
    "%matplotlib inline\n",
    "import pandas as pd\n",
    "import matplotlib.pyplot as plt\n",
    "import numpy as np\n",
    "import os\n",
    "from IPython.display import display\n",
    "pd.options.display.max_rows = 13"
   ]
  },
  {
   "cell_type": "code",
   "execution_count": 2,
   "metadata": {},
   "outputs": [],
   "source": [
    "import re \n",
    "\n",
    "\n",
    "def cleanup(text):\n",
    "    \"\"\"\n",
    "        Função de limpeza muito simples que troca alguns sinais básicos por espaços\n",
    "    \"\"\"\n",
    "    #import string\n",
    "    punctuation = '[!-.:?;]' # Note que os sinais [] são delimitadores de um conjunto.\n",
    "    pattern = re.compile(punctuation)\n",
    "    text_subbed = re.sub(pattern, '', text)\n",
    "    return text_subbed\n",
    "    "
   ]
  },
  {
   "cell_type": "markdown",
   "metadata": {},
   "source": [
    "**Em `filename`, coloque o nome do seu arquivo de dados!**"
   ]
  },
  {
   "cell_type": "code",
   "execution_count": 3,
   "metadata": {
    "scrolled": false
   },
   "outputs": [
    {
     "name": "stdout",
     "output_type": "stream",
     "text": [
      "Encontrei o arquivo Netflix.xlsx, tudo certo para prosseguir com a prova!\n"
     ]
    }
   ],
   "source": [
    "import os\n",
    "\n",
    "filename = 'Netflix.xlsx'\n",
    "if filename in os.listdir():\n",
    "    print(f'Encontrei o arquivo {filename}, tudo certo para prosseguir com a prova!')\n",
    "else:\n",
    "    print(f'Não encontrei o arquivo {filename} aqui no diretório {os.getcwd()}, será que você não baixou o arquivo?')"
   ]
  },
  {
   "cell_type": "markdown",
   "metadata": {},
   "source": [
    "Carregando a base de dados com os tweets classificados como relevantes e não relevantes:"
   ]
  },
  {
   "cell_type": "code",
   "execution_count": 4,
   "metadata": {},
   "outputs": [
    {
     "data": {
      "text/html": [
       "<div>\n",
       "<style scoped>\n",
       "    .dataframe tbody tr th:only-of-type {\n",
       "        vertical-align: middle;\n",
       "    }\n",
       "\n",
       "    .dataframe tbody tr th {\n",
       "        vertical-align: top;\n",
       "    }\n",
       "\n",
       "    .dataframe thead th {\n",
       "        text-align: right;\n",
       "    }\n",
       "</style>\n",
       "<table border=\"1\" class=\"dataframe\">\n",
       "  <thead>\n",
       "    <tr style=\"text-align: right;\">\n",
       "      <th></th>\n",
       "      <th>Treinamento</th>\n",
       "      <th>0 irrelevante, 1 relevante, 2 muito relevante</th>\n",
       "    </tr>\n",
       "  </thead>\n",
       "  <tbody>\n",
       "    <tr>\n",
       "      <th>0</th>\n",
       "      <td>saiu da netflix? q sdd de full house! amo muit...</td>\n",
       "      <td>1</td>\n",
       "    </tr>\n",
       "    <tr>\n",
       "      <th>1</th>\n",
       "      <td>rt @karolcaipira: gente vcs tem que entender u...</td>\n",
       "      <td>1</td>\n",
       "    </tr>\n",
       "    <tr>\n",
       "      <th>2</th>\n",
       "      <td>rt @yuki_blc: agora que one piece entrará no c...</td>\n",
       "      <td>0</td>\n",
       "    </tr>\n",
       "    <tr>\n",
       "      <th>3</th>\n",
       "      <td>mano, não tem mais nada p assistir na netflix ...</td>\n",
       "      <td>2</td>\n",
       "    </tr>\n",
       "    <tr>\n",
       "      <th>4</th>\n",
       "      <td>@jornaloglobo vcs assistiram o filme, primeira...</td>\n",
       "      <td>0</td>\n",
       "    </tr>\n",
       "  </tbody>\n",
       "</table>\n",
       "</div>"
      ],
      "text/plain": [
       "                                         Treinamento  \\\n",
       "0  saiu da netflix? q sdd de full house! amo muit...   \n",
       "1  rt @karolcaipira: gente vcs tem que entender u...   \n",
       "2  rt @yuki_blc: agora que one piece entrará no c...   \n",
       "3  mano, não tem mais nada p assistir na netflix ...   \n",
       "4  @jornaloglobo vcs assistiram o filme, primeira...   \n",
       "\n",
       "   0 irrelevante, 1 relevante, 2 muito relevante  \n",
       "0                                              1  \n",
       "1                                              1  \n",
       "2                                              0  \n",
       "3                                              2  \n",
       "4                                              0  "
      ]
     },
     "execution_count": 4,
     "metadata": {},
     "output_type": "execute_result"
    }
   ],
   "source": [
    "train = pd.read_excel(filename)\n",
    "train.head(5)"
   ]
  },
  {
   "cell_type": "code",
   "execution_count": 5,
   "metadata": {},
   "outputs": [
    {
     "data": {
      "text/html": [
       "<div>\n",
       "<style scoped>\n",
       "    .dataframe tbody tr th:only-of-type {\n",
       "        vertical-align: middle;\n",
       "    }\n",
       "\n",
       "    .dataframe tbody tr th {\n",
       "        vertical-align: top;\n",
       "    }\n",
       "\n",
       "    .dataframe thead th {\n",
       "        text-align: right;\n",
       "    }\n",
       "</style>\n",
       "<table border=\"1\" class=\"dataframe\">\n",
       "  <thead>\n",
       "    <tr style=\"text-align: right;\">\n",
       "      <th></th>\n",
       "      <th>Teste</th>\n",
       "      <th>0 irrelevante e 1 relevante</th>\n",
       "    </tr>\n",
       "  </thead>\n",
       "  <tbody>\n",
       "    <tr>\n",
       "      <th>0</th>\n",
       "      <td>rt @blogdadireita: min. damares alves quer pro...</td>\n",
       "      <td>0</td>\n",
       "    </tr>\n",
       "    <tr>\n",
       "      <th>1</th>\n",
       "      <td>@rachwlgrwn no off eu fui até a terceira e se ...</td>\n",
       "      <td>2</td>\n",
       "    </tr>\n",
       "    <tr>\n",
       "      <th>2</th>\n",
       "      <td>eu quero julie e os fantasmas na netflix pra c...</td>\n",
       "      <td>0</td>\n",
       "    </tr>\n",
       "    <tr>\n",
       "      <th>3</th>\n",
       "      <td>nunca vou perdoar a netflix https://t.co/ssrbk...</td>\n",
       "      <td>2</td>\n",
       "    </tr>\n",
       "    <tr>\n",
       "      <th>4</th>\n",
       "      <td>seria demais querer que a @damaresalves e os e...</td>\n",
       "      <td>0</td>\n",
       "    </tr>\n",
       "  </tbody>\n",
       "</table>\n",
       "</div>"
      ],
      "text/plain": [
       "                                               Teste  \\\n",
       "0  rt @blogdadireita: min. damares alves quer pro...   \n",
       "1  @rachwlgrwn no off eu fui até a terceira e se ...   \n",
       "2  eu quero julie e os fantasmas na netflix pra c...   \n",
       "3  nunca vou perdoar a netflix https://t.co/ssrbk...   \n",
       "4  seria demais querer que a @damaresalves e os e...   \n",
       "\n",
       "   0 irrelevante e 1 relevante  \n",
       "0                            0  \n",
       "1                            2  \n",
       "2                            0  \n",
       "3                            2  \n",
       "4                            0  "
      ]
     },
     "execution_count": 5,
     "metadata": {},
     "output_type": "execute_result"
    }
   ],
   "source": [
    "test = pd.read_excel(filename, sheet_name = 'Teste')\n",
    "test.head(5)"
   ]
  },
  {
   "cell_type": "markdown",
   "metadata": {},
   "source": [
    "___\n",
    "## Classificador automático de sentimento\n"
   ]
  },
  {
   "cell_type": "markdown",
   "metadata": {},
   "source": [
    "Faça aqui uma descrição do seu produto e o que considerou como relevante ou não relevante na classificação dos tweets.\n",
    "\n",
    "Nosso produto é um serviço de streaming de filmes e séries. De uma escala de 0 a 2 temos que:\n",
    "0 é \"nada relevante\" - abrange tweets que não influenciam no desempenho da plataforma\n",
    "1 é \"relevante\" - tweets que são recomendações ou reinvidicações para a plataforma\n",
    "2 é \"muito relevante\" - todos os tweets que estão relacionados ao gosto positivamente e negativamente à plataforma"
   ]
  },
  {
   "cell_type": "code",
   "execution_count": 6,
   "metadata": {},
   "outputs": [
    {
     "data": {
      "text/html": [
       "<div>\n",
       "<style scoped>\n",
       "    .dataframe tbody tr th:only-of-type {\n",
       "        vertical-align: middle;\n",
       "    }\n",
       "\n",
       "    .dataframe tbody tr th {\n",
       "        vertical-align: top;\n",
       "    }\n",
       "\n",
       "    .dataframe thead th {\n",
       "        text-align: right;\n",
       "    }\n",
       "</style>\n",
       "<table border=\"1\" class=\"dataframe\">\n",
       "  <thead>\n",
       "    <tr style=\"text-align: right;\">\n",
       "      <th></th>\n",
       "      <th>Treinamento</th>\n",
       "      <th>0 irrelevante, 1 relevante, 2 muito relevante</th>\n",
       "    </tr>\n",
       "  </thead>\n",
       "  <tbody>\n",
       "    <tr>\n",
       "      <th>2</th>\n",
       "      <td>rt @yuki_blc: agora que one piece entrará no c...</td>\n",
       "      <td>0</td>\n",
       "    </tr>\n",
       "    <tr>\n",
       "      <th>4</th>\n",
       "      <td>@jornaloglobo vcs assistiram o filme, primeira...</td>\n",
       "      <td>0</td>\n",
       "    </tr>\n",
       "    <tr>\n",
       "      <th>5</th>\n",
       "      <td>rt @bunnyfeveer: esses dias estreou o filme mi...</td>\n",
       "      <td>0</td>\n",
       "    </tr>\n",
       "    <tr>\n",
       "      <th>7</th>\n",
       "      <td>o jeremy shada na seria da netflix e eu so lem...</td>\n",
       "      <td>0</td>\n",
       "    </tr>\n",
       "    <tr>\n",
       "      <th>8</th>\n",
       "      <td>damares quer proibir filme da netflix acusado ...</td>\n",
       "      <td>0</td>\n",
       "    </tr>\n",
       "    <tr>\n",
       "      <th>...</th>\n",
       "      <td>...</td>\n",
       "      <td>...</td>\n",
       "    </tr>\n",
       "    <tr>\n",
       "      <th>290</th>\n",
       "      <td>nada tira da minha cabeça que ela já sabia que...</td>\n",
       "      <td>0</td>\n",
       "    </tr>\n",
       "    <tr>\n",
       "      <th>294</th>\n",
       "      <td>os militantes que cancelaram a netflix pelo fi...</td>\n",
       "      <td>0</td>\n",
       "    </tr>\n",
       "    <tr>\n",
       "      <th>295</th>\n",
       "      <td>rt @craibeibe: inveja de você? kkkkkkkkkkkkkkk...</td>\n",
       "      <td>0</td>\n",
       "    </tr>\n",
       "    <tr>\n",
       "      <th>296</th>\n",
       "      <td>quero saber quando é q vou poder colocar as pi...</td>\n",
       "      <td>0</td>\n",
       "    </tr>\n",
       "    <tr>\n",
       "      <th>299</th>\n",
       "      <td>@boatosorg bolsonaristas já estão importando a...</td>\n",
       "      <td>0</td>\n",
       "    </tr>\n",
       "  </tbody>\n",
       "</table>\n",
       "<p>206 rows × 2 columns</p>\n",
       "</div>"
      ],
      "text/plain": [
       "                                           Treinamento  \\\n",
       "2    rt @yuki_blc: agora que one piece entrará no c...   \n",
       "4    @jornaloglobo vcs assistiram o filme, primeira...   \n",
       "5    rt @bunnyfeveer: esses dias estreou o filme mi...   \n",
       "7    o jeremy shada na seria da netflix e eu so lem...   \n",
       "8    damares quer proibir filme da netflix acusado ...   \n",
       "..                                                 ...   \n",
       "290  nada tira da minha cabeça que ela já sabia que...   \n",
       "294  os militantes que cancelaram a netflix pelo fi...   \n",
       "295  rt @craibeibe: inveja de você? kkkkkkkkkkkkkkk...   \n",
       "296  quero saber quando é q vou poder colocar as pi...   \n",
       "299  @boatosorg bolsonaristas já estão importando a...   \n",
       "\n",
       "     0 irrelevante, 1 relevante, 2 muito relevante  \n",
       "2                                                0  \n",
       "4                                                0  \n",
       "5                                                0  \n",
       "7                                                0  \n",
       "8                                                0  \n",
       "..                                             ...  \n",
       "290                                              0  \n",
       "294                                              0  \n",
       "295                                              0  \n",
       "296                                              0  \n",
       "299                                              0  \n",
       "\n",
       "[206 rows x 2 columns]"
      ]
     },
     "execution_count": 6,
     "metadata": {},
     "output_type": "execute_result"
    }
   ],
   "source": [
    "dfnaorelevante = train.loc[train['0 irrelevante, 1 relevante, 2 muito relevante'] == 0]\n",
    "dfnaorelevante"
   ]
  },
  {
   "cell_type": "code",
   "execution_count": 7,
   "metadata": {},
   "outputs": [],
   "source": [
    "#juntar num textao\n",
    "textao0 = \" \".join(dfnaorelevante.Treinamento)"
   ]
  },
  {
   "cell_type": "code",
   "execution_count": 8,
   "metadata": {},
   "outputs": [
    {
     "data": {
      "text/html": [
       "<div>\n",
       "<style scoped>\n",
       "    .dataframe tbody tr th:only-of-type {\n",
       "        vertical-align: middle;\n",
       "    }\n",
       "\n",
       "    .dataframe tbody tr th {\n",
       "        vertical-align: top;\n",
       "    }\n",
       "\n",
       "    .dataframe thead th {\n",
       "        text-align: right;\n",
       "    }\n",
       "</style>\n",
       "<table border=\"1\" class=\"dataframe\">\n",
       "  <thead>\n",
       "    <tr style=\"text-align: right;\">\n",
       "      <th></th>\n",
       "      <th>Treinamento</th>\n",
       "      <th>0 irrelevante, 1 relevante, 2 muito relevante</th>\n",
       "    </tr>\n",
       "  </thead>\n",
       "  <tbody>\n",
       "    <tr>\n",
       "      <th>0</th>\n",
       "      <td>saiu da netflix? q sdd de full house! amo muit...</td>\n",
       "      <td>1</td>\n",
       "    </tr>\n",
       "    <tr>\n",
       "      <th>1</th>\n",
       "      <td>rt @karolcaipira: gente vcs tem que entender u...</td>\n",
       "      <td>1</td>\n",
       "    </tr>\n",
       "    <tr>\n",
       "      <th>15</th>\n",
       "      <td>@bancadadeleao tive algumas dificuldades com a...</td>\n",
       "      <td>1</td>\n",
       "    </tr>\n",
       "    <tr>\n",
       "      <th>25</th>\n",
       "      <td>@onepiecedadepre finalmente o melhor anime do ...</td>\n",
       "      <td>1</td>\n",
       "    </tr>\n",
       "    <tr>\n",
       "      <th>26</th>\n",
       "      <td>@joaopaulojm16 \"o dilema das redes\" documentár...</td>\n",
       "      <td>1</td>\n",
       "    </tr>\n",
       "    <tr>\n",
       "      <th>...</th>\n",
       "      <td>...</td>\n",
       "      <td>...</td>\n",
       "    </tr>\n",
       "    <tr>\n",
       "      <th>280</th>\n",
       "      <td>eu só queria minha netflix de volta....😭</td>\n",
       "      <td>1</td>\n",
       "    </tr>\n",
       "    <tr>\n",
       "      <th>281</th>\n",
       "      <td>@gaudby saudade de pegar aquela filinha de lev...</td>\n",
       "      <td>1</td>\n",
       "    </tr>\n",
       "    <tr>\n",
       "      <th>283</th>\n",
       "      <td>o dilema das redes na netflix é 10/10 e todo m...</td>\n",
       "      <td>1</td>\n",
       "    </tr>\n",
       "    <tr>\n",
       "      <th>293</th>\n",
       "      <td>netflix já foi melhor .</td>\n",
       "      <td>1</td>\n",
       "    </tr>\n",
       "    <tr>\n",
       "      <th>298</th>\n",
       "      <td>rt @storyiaa: never say never votou pra netfli...</td>\n",
       "      <td>1</td>\n",
       "    </tr>\n",
       "  </tbody>\n",
       "</table>\n",
       "<p>40 rows × 2 columns</p>\n",
       "</div>"
      ],
      "text/plain": [
       "                                           Treinamento  \\\n",
       "0    saiu da netflix? q sdd de full house! amo muit...   \n",
       "1    rt @karolcaipira: gente vcs tem que entender u...   \n",
       "15   @bancadadeleao tive algumas dificuldades com a...   \n",
       "25   @onepiecedadepre finalmente o melhor anime do ...   \n",
       "26   @joaopaulojm16 \"o dilema das redes\" documentár...   \n",
       "..                                                 ...   \n",
       "280           eu só queria minha netflix de volta....😭   \n",
       "281  @gaudby saudade de pegar aquela filinha de lev...   \n",
       "283  o dilema das redes na netflix é 10/10 e todo m...   \n",
       "293                            netflix já foi melhor .   \n",
       "298  rt @storyiaa: never say never votou pra netfli...   \n",
       "\n",
       "     0 irrelevante, 1 relevante, 2 muito relevante  \n",
       "0                                                1  \n",
       "1                                                1  \n",
       "15                                               1  \n",
       "25                                               1  \n",
       "26                                               1  \n",
       "..                                             ...  \n",
       "280                                              1  \n",
       "281                                              1  \n",
       "283                                              1  \n",
       "293                                              1  \n",
       "298                                              1  \n",
       "\n",
       "[40 rows x 2 columns]"
      ]
     },
     "execution_count": 8,
     "metadata": {},
     "output_type": "execute_result"
    }
   ],
   "source": [
    "dfrelevante = train.loc[train['0 irrelevante, 1 relevante, 2 muito relevante'] == 1]\n",
    "dfrelevante"
   ]
  },
  {
   "cell_type": "code",
   "execution_count": 9,
   "metadata": {},
   "outputs": [],
   "source": [
    "#juntar num textao\n",
    "textao1 = \" \".join(dfrelevante.Treinamento)"
   ]
  },
  {
   "cell_type": "code",
   "execution_count": 10,
   "metadata": {},
   "outputs": [
    {
     "data": {
      "text/html": [
       "<div>\n",
       "<style scoped>\n",
       "    .dataframe tbody tr th:only-of-type {\n",
       "        vertical-align: middle;\n",
       "    }\n",
       "\n",
       "    .dataframe tbody tr th {\n",
       "        vertical-align: top;\n",
       "    }\n",
       "\n",
       "    .dataframe thead th {\n",
       "        text-align: right;\n",
       "    }\n",
       "</style>\n",
       "<table border=\"1\" class=\"dataframe\">\n",
       "  <thead>\n",
       "    <tr style=\"text-align: right;\">\n",
       "      <th></th>\n",
       "      <th>Treinamento</th>\n",
       "      <th>0 irrelevante, 1 relevante, 2 muito relevante</th>\n",
       "    </tr>\n",
       "  </thead>\n",
       "  <tbody>\n",
       "    <tr>\n",
       "      <th>3</th>\n",
       "      <td>mano, não tem mais nada p assistir na netflix ...</td>\n",
       "      <td>2</td>\n",
       "    </tr>\n",
       "    <tr>\n",
       "      <th>6</th>\n",
       "      <td>mano 16ª ja ta no globoplay caraaaaio \\nnetfli...</td>\n",
       "      <td>2</td>\n",
       "    </tr>\n",
       "    <tr>\n",
       "      <th>13</th>\n",
       "      <td>rt @jovisf30: todos os filmes de harry potter ...</td>\n",
       "      <td>2</td>\n",
       "    </tr>\n",
       "    <tr>\n",
       "      <th>16</th>\n",
       "      <td>nesse feriado prolongado eu assisti dois filme...</td>\n",
       "      <td>2</td>\n",
       "    </tr>\n",
       "    <tr>\n",
       "      <th>36</th>\n",
       "      <td>rt @wahlianna: netflix be like:\\n\\ncenas com p...</td>\n",
       "      <td>2</td>\n",
       "    </tr>\n",
       "    <tr>\n",
       "      <th>...</th>\n",
       "      <td>...</td>\n",
       "      <td>...</td>\n",
       "    </tr>\n",
       "    <tr>\n",
       "      <th>286</th>\n",
       "      <td>@netovisky trilogia de senhor dos anéis (dispo...</td>\n",
       "      <td>2</td>\n",
       "    </tr>\n",
       "    <tr>\n",
       "      <th>289</th>\n",
       "      <td>rt @denise_rm_: bom dia, povo!🌹🇧🇷\\nmenos p a n...</td>\n",
       "      <td>2</td>\n",
       "    </tr>\n",
       "    <tr>\n",
       "      <th>291</th>\n",
       "      <td>rt @awaecharts: anne with an e na netflix chil...</td>\n",
       "      <td>2</td>\n",
       "    </tr>\n",
       "    <tr>\n",
       "      <th>292</th>\n",
       "      <td>rt @baptistafairy: eu tô muito sedenta pela se...</td>\n",
       "      <td>2</td>\n",
       "    </tr>\n",
       "    <tr>\n",
       "      <th>297</th>\n",
       "      <td>@netflixbrasil netflix querida, vê se consegue...</td>\n",
       "      <td>2</td>\n",
       "    </tr>\n",
       "  </tbody>\n",
       "</table>\n",
       "<p>54 rows × 2 columns</p>\n",
       "</div>"
      ],
      "text/plain": [
       "                                           Treinamento  \\\n",
       "3    mano, não tem mais nada p assistir na netflix ...   \n",
       "6    mano 16ª ja ta no globoplay caraaaaio \\nnetfli...   \n",
       "13   rt @jovisf30: todos os filmes de harry potter ...   \n",
       "16   nesse feriado prolongado eu assisti dois filme...   \n",
       "36   rt @wahlianna: netflix be like:\\n\\ncenas com p...   \n",
       "..                                                 ...   \n",
       "286  @netovisky trilogia de senhor dos anéis (dispo...   \n",
       "289  rt @denise_rm_: bom dia, povo!🌹🇧🇷\\nmenos p a n...   \n",
       "291  rt @awaecharts: anne with an e na netflix chil...   \n",
       "292  rt @baptistafairy: eu tô muito sedenta pela se...   \n",
       "297  @netflixbrasil netflix querida, vê se consegue...   \n",
       "\n",
       "     0 irrelevante, 1 relevante, 2 muito relevante  \n",
       "3                                                2  \n",
       "6                                                2  \n",
       "13                                               2  \n",
       "16                                               2  \n",
       "36                                               2  \n",
       "..                                             ...  \n",
       "286                                              2  \n",
       "289                                              2  \n",
       "291                                              2  \n",
       "292                                              2  \n",
       "297                                              2  \n",
       "\n",
       "[54 rows x 2 columns]"
      ]
     },
     "execution_count": 10,
     "metadata": {},
     "output_type": "execute_result"
    }
   ],
   "source": [
    "dfmuitorelevante = train.loc[train['0 irrelevante, 1 relevante, 2 muito relevante'] == 2]\n",
    "dfmuitorelevante"
   ]
  },
  {
   "cell_type": "code",
   "execution_count": 11,
   "metadata": {},
   "outputs": [],
   "source": [
    "#juntar num textao\n",
    "textao2 = \" \".join(dfmuitorelevante.Treinamento)"
   ]
  },
  {
   "cell_type": "markdown",
   "metadata": {},
   "source": [
    "___\n",
    "### Montando um Classificador Naive-Bayes\n",
    "\n",
    "Considerando apenas as mensagens da planilha Treinamento, ensine  seu classificador."
   ]
  },
  {
   "cell_type": "code",
   "execution_count": 12,
   "metadata": {},
   "outputs": [
    {
     "name": "stdout",
     "output_type": "stream",
     "text": [
      "rt @yuki_blc agora que one piece entrará no catálogo da netflix brasil torço para que uma nova massa de otakus se dêem a oportunidade de… @jornaloglobo vcs assistiram o filme primeiramente\n",
      "\n",
      "https//tco/3rio38lney rt @bunnyfeveer esses dias estreou o filme mignonnes ou cuties em inglês na netflix então eu vou fazer minha breve passagem sobre como… o jeremy shada na seria da netflix e eu so lembro da epoca qe ele dublava o lance e fazia a gente acreditar qe klance era canon 👁👄👁 damares quer proibir filme da netflix acusado de sexualizar criança https//tco/nf89cx83hf cultura @elgwellm meu pai tá me pirraçando e até agora não pagou a netflix ainda nem acabei o clássico @pacefeco o que tem a ver a globo com a netflix gente gado não serve nem para criticar kkkkkkkkk me ajudem vi bastante gente falando mas não tive interesse de assistir a netflix lançou uma série soco no estômago expondo como funcionam as redes empresas lucros internet tipo a netflix rt @isalipertin netflix renova caçadoras de recompensas porque eu quero continuar vendo essa grande gostosa na minha tv renewtbh https//… nc mais vejo 1 filme de harry potter na netflix \n",
      "\n",
      "vo ver td pirateado pra n dar dinheiro pra fdp eu começo a ver umas coisa tão aleatória não netflix netflix vai perder os direitos gente https//tco/nsblarqzro @klbstan essa é a antiga br tem a da netflix do diretor do hsm agora @brunodc72 esteve sempre muito à frente do seu tempo\n",
      "nunca mais estreia o documentário na netflix https//tco/5yhtle4hoe faturamento da netflix no brasil se aproxima do da globo https//tco/s0ylduhdjy @netflixbrasil chega logo outubro obrigada netflix espero que esse passe na netflix https//tco/24peruxchg @sapphicute @hales_devon @netflix amg q edit perfeitooo posso flodar rt @educardinal olharoleta do unfollow pode vir mas acho que o estado não deve se meter nessa questão de filme da netflix\n",
      "\n",
      "quem tem qu… @gomesluanae ontem eu tava vendo a maioria dos filmes que tem no globoplay a netflix tirou a regra é não ter regras livro do ceo da netflix chega ao brasil pela intrínseca https//tco/lyqiujkqkl https//tco/8zmc0cz5gn @netflixbrasil @lucastrapstar netflix coloca jojo bizarre adventure no catálogo pfv finalmente tenho a netflix de volta e essa netflix que nem sou eu que pago que nem estou a usar bem netflix deverá faturar até o fim do segundo semestre r 67 bilhões  e encostar na tv globo https//tco/foidwbf3k6 @andcoxinhazz c viu q lançou um desenho do msm criador de apenas um show na netflix eu amo minha empresa posso ver netflix e trabalhar kkkk amo demais rt @nathsliamello kkkkkkkkkkkkkkkkkkkkkkkkkkkkkkkkk ai meu deus o terror da netflix  a netflix ganha por visualização desde quando e a jk tem um contrato com a universal que tem um contrato com a netflix tbm não ganha nada por visualização\n",
      "quer parar de financiar a netflix pare de assinar pq parar de assistir os filmes não vai mudar nada https//tco/cgwyzvzp40 @haibavlog sério aaaaaaaaaaa\n",
      "\n",
      "eu fiz no impulso de madru kejdizjsak \n",
      "\n",
      "obg amorrr\n",
      "\n",
      "ps pfv assiste great pretender eu e um grupo de pessoas estamos tentando criar um fandom pra esse anime tem na netflix @icydemi eh um filme recentemente a netflix fez um marketing podre pra ele e todo mundo caiu em cima assistam e se mantenham consciente nas redes\n",
      "\n",
      "não caia em suas armadilhas criadas\n",
      "\n",
      "https//tco/spkkcj09bs pastora da família crítica últimos lançamentos da netflix “ideologias que vão contra meus princípios”\n",
      "tonogospel \n",
      "https//tco/b4tactfwbh https//tco/46diknzalk o presifake pode sensualizar e sexualizar em live né sua velha hipócrita do caralho https//tco/otu1x2exci hj nem da cama levanto está a cara da quentinha e netflix hj 😅😅😜 mentira que a netflix fez um remake de julie e os fantasmas rt @fachavor_ fãs de the society esperando a netflix renovarem a série se ele não for o maxon eu desisto da netflix https//tco/r7abjjrcb6 rt @whatthehellisa3 eu tenho dó de quem não conhece a história do justin bieberaproveitem que never say never ta na netflix pra conhecere… rt @jeremyshadabr ✍️| ew sobre a seleção de jeremy para o elenco\n",
      "\n",
      "mas o processo para encontrar as quatro estrelas foi árduo mesmo para… rt @cournalsx never say never de volta a netflix e eu vou assistir de novo mesmo já tendo assistido umas 54373839 milhões de vezes https/… @jornaloglobo daqui a pouco vão proibir lolita\n",
      "\n",
      "o filme da netflix é justamente uma crítica a sexualização infantil assim como tem gente do meio literário que quer apagar lolita dos hall de livros\n",
      "\n",
      "só cancelar as obras não vai trazer a reflexão e sim tomar medidas reais @jojobizarrepost @velocidadevagao eu espero q com o anime indo pra netflix o anime ganhe mais público mas não esses doentes do fandom de boku no hero e do fandom de naruto q só pensam em ship gay e não ligam pras lutas e pra história um público q goste da história e que dê mais visibilidade ainda pra op tlgd @bsbmylobster foi esse ator q fez uma série turca na netflix chamada o protetor  igualzinho rt @pedacodepalha bom dia a todos só uma palavra o one piece é real e agora na netflix https//tco/7lmisxesxy @theoujc viu o documentario da netflix ne eu tambem @profslicurgo se eu fumar eu sou expulso da netflix @oproprionerd para quem ainda não cancelou netflix river sai da mesmice atuação do ator impecável assisti 2 vezes tem comeco meio e fim sem aquela sacanagem de ficar esticando episódio rt @lucastrapstar @netflixbrasil tá eu vou rever east blue nao me decepcione na dublagem netflix  rt @yasmiin_crf bom pra ficar deitada vendo netflix vim trabalhar com esse tempo é chatão mó preguiça do caralho kkkk tomei café agr vou ver netflix rt @soudesiao tem um filme polonês na netflix chamado rede de ódio que aborda um assunto muito atual assista depois me diga @alexpt20 @tvi24pt não vai ter aconselhoa a ver when they see us da netflix fala num caso muito parecido e a vida deles nunca mais foi a mesma\n",
      "aos 18 anos estamos a construir o nosso futuro começar a construir um novo futuro aos 37 nunca é igual @wingswayne assim eu saquei o bait da netflix mas acho que eles deram uma leve exagerada @eduardodacruz6 @marcthella @pacefeco não é a globo que tá exibindo o filme é a netflix @night_violet_ @kookfmv meu deus você fez um trailer pra fic meu deus amg que perfeiçãono começo eu fiquei tipo ãh a netflix fez isso kkkkkkkk nossa amg ta mtttt bomparabénssss @camila_abdo mas a netflix curte toda essa propaganda gratuita muitos só ficaram sabendo do conteúdo por causa da nossa reação acho isso muito complicado @malu_fusco mas já não tinha na netflix ué @iamannoyiing_ ai virar zumbi também 🧟‍♀️ lembro da vez que passei uma semana assistindo um único filme via um pedaço por dia kkkkkkkkk pra sério eu não tenho dependendo da série tipo pll eu vi mó rápido porque gostava muito\n",
      "\n",
      "nunca nem vi tem na netflix never say never de volta a netflix e eu vou assistir de novo mesmo já tendo assistido umas 54373839 milhões de vezes https//tco/erjnmfkooh @revistaforum a netflix tá tremendo de medo dessas criaturas\n",
      "https//tco/6l67hv0zqw primeira vez que vou concordar com a damares https//tco/nilccrkmgd never say never na netflix é tudo q eu pedi a deus chorando assistindo pela 12389494 vez rt @gazeta_brasil diretora do filme afirmou que o objetivo da obra é totalmente feminista\n",
      "https//tco/unqxflioeb @dannycaviar melhor série da netflix vê vais gostar netflix vagabundaaaa quero ver logo a merda da saída do karev https//tco/glnnib3nfj rt @caioturbiani é muito doido como ter opinião / recomendar algo que tá no netflix virou um sinal de status não era assim na época da tv… agora que never say never tá na netflix novamente nada mais justo do que colocar believe movie também né rt @omelete sem maturidade para isso presta homenagem a apenas um show série animada chegou ao brasil pela netflix https//tco/pydmgr6av… rt @thelouiefave @snowmyoongi a mary a julie br nem tem 1k de interações no tt ngm mais lembra da guria ngm da valor ao trabalho br e… rt @awaecharts anne with an e na netflix chile 🇨🇱 14/09/2020\n",
      "\n",
      "buscas populares — 12 –7\n",
      "\n",
      "top 10 — séries mais assistidas — 5 =\n",
      "\n",
      "r… rt @leandroruschel netflix pode ser investigada nos eua por pornografia infantil dois senadores já fizeram o pedido ao departamento de  j… @uolnoticias quem está comemorando isso é imbecil \n",
      "\n",
      "imagina um grupo de gente reclamando de algo que acontece na sua empresa privada e o governo local vem e começa a mandar e desmandar na sua empresa \n",
      "\n",
      "reclamem da netflix xinguem ela boicotem mas não tragam a escoria pro assunto venham ver netflix e dormir o dia todo  @luizagiovannaa é preciso ter netflix para esse @juliadegoma faz igual o ket pega uma pessoal aleatória coloca em call no discord e comenta sobre qualquer notícia do momento\n",
      "\n",
      "porque vc n comenta sobre as séries canceladas pela netflix  todo mundo ficou puto com isso é um bom tema estamos treinando e condicionando uma geração inteira de pessoas que quando se sentem desconfortáveis solitárias ou com medo usam chupetas digitais para se acalmar e isso vai atrofiando nossa habilidade de lidar com as coisas odilemadasredes\n",
      "\n",
      "https//tco/371tbzvh8m rt @snowmyoongi @srh_moon sim amiga eu sei não tô criticando a série o que eu disse foi que não quero assistir um remake estadunidense… rt @jaurearps atenção sáficas \n",
      "\n",
      "estamos tentando engajar uma serie nova da netflix q a msm nao esta divulgando pq sera ne onde tem um ca… rt @bossasuke vozes do elenco de dubladores de one piece que vai sair na netflix https//tco/0lcxvtni1o @anapaula_cst não amor netflix já tirou a anos pelo box séries e perfeito assisti ontem à noite o doc o dilema das redes tá no netflix assustador vcs todes deveriam assistir todo mundo vai subestimar esse filme por ser um filme adolescente da netflix\n",
      "\n",
      "mas a babá rainha da morte é um dos filmes mais divertidos que eu vi ultimamente\n",
      "\n",
      "puta merda ele quebra os limites do no sense e vai além \n",
      "\n",
      "que venha o terceiro https//tco/bd6yuigbcc me indiquem filmes para eu ver gente pq esse fds vou hibernar na netflix talvez até durante a semana tbm pq to com preguiça das aulas kkkk @apsobr @revistabula netflix vai fazer uma série tava esperando tanto never say never  chegar na netflix q só agora percebi que já tenho ele https//tco/xbzxr2kam6 mano loirona vai chorar mano\n",
      "\n",
      "não acredito que a @netflixbrasil tirou thats 70 show \n",
      "aaaaaaaaaaaaaa que merda \n",
      "mano netflix hj eu declaro que vc fez a pior merda da sua existência meu deusssss never say never já está na netflix https//tco/ecquaxv6im me diz aí qual operadora que te oferece instagram ilimitado\n",
      "\n",
      "o melhor plano de internet de todos os tempos oi 100gb de internet netflix e youtube livre\n",
      "https//tco/6b6zbp62gk\n",
      "https//tco/1ohhrxyrel @barbosalcs se tiver na netflix eu assisto tudo never say never voltou pra netflix e eu vou passar o dia todo assistindo e chorando pq ele era muito baby😭😭😭😭😭😭\n",
      "amigos n contem cmg pra nada hj https//tco/0etdjczeg9 one piece na netflix eu sou a pessoa mais feliz do mundo never say never ta na netflix e hoje minha programação do dia vai ser só pra ver esse filme de novo aaaaaaaaaa acordei entrei na netflix e o never say never já tá na minha lista amei @gamingroom se eles vierem vão ser por outros motivos\n",
      "\n",
      "eu tenho a sensação que esse filme da netflix é uma armadilha pra pegar pedofilos jeremy tardy deixa o elenco de série da netflix após ser vítima de racismo https//tco/7zy2dgxlt2 ela me liga com aquela desculpa velha\n",
      " que eu salvo que eu bolo a gente ri e assiste um netflix @iigorcurado a última da netflix é a s15 se minha mãe chegar no meu quarto as 4 da manhã eu vou ta assim ó atualizando a netflix \n",
      "\n",
      "watch tdatt on netflix https//tco/u6atsnuwhj já preparei minha netflix p viagem baixei logo uns 8 eps de naruto p assistir no caminho @bellakkkj nossa pq vc diz isso parece ser o suprassumo da qualidade da netflix 🥴😳😳 @paola_fuhrmann4 eu gosto bastante mas depois de titãs na netflix fiquei traumatizada pq era meio ruim kkkkkkk @fuckingcavill música de 2010 e documentário de 2011 do justin bieber voltou pro catálogo da netflix @pacefeco @lfsvalerio porque são organizações globo se fossem netflix seria organização netflix precisa desenhar ou conseguiu ler rt @gv_diamond10 só o carinho e uma netflix estaria muito bom ❤️ rt @kddlrauhl vamos deixar never say never no top10 da netflix \n",
      "\n",
      "https//tco/unpgbdtr2c @sarahhhgoncal é a melhor série da netflix 0 defeitos rt @fontesbieber reizinho \n",
      "\n",
      "never say never é um dos assuntos mais comentados do twitter brasil após reentrar no catálogo da netflix br… rt @politzoficial senadores republicanos dos eua acionam departamento de justiça para tomar medidas legais contra netflix por sexualização… @renan30733164 kkkkkkkkkkkk vou ter que ver tudo também mas nem vou ver na netflix paz de casa vendo um filme na netflix tomando aquele café reforçado guerra com ninguém f1s para amenizar os stress ✌🏽✌🏽 o dilema das redes filme da netflix liga redes sociais ao vício em drogas https//tco/k4wh6qhygu via @tilt_uol @uol ontem assisti o dilema das redes no netflix e estou crisado rt @jornaloglobo cuties damares quer tirar do ar filme da netflix elogiado pela crítica e acusado de sexualizar crianças https//tco/d… netflix pode transmitir pornô na arábia saudita mas não críticas ao príncipe https//tco/azwulnyqyd rt @changesjaiiey hoje o never say never volta pra netflix quem vai ajudar a colocar a lenda no top 10 @baiaoog pena já não estar na netflix só queria a sala escura agr pra ver netflix 😒\n",
      "preciso de uma cortina com blackout 🤦🏽‍♀️ rt @estadao damares promete abrir fogo contra a netflix via @brpolitico\n",
      "https//tco/nzitrwlxlw https//tco/dcxknaetfn @keuq__ @hollowc2013 @isa27761899 @jonh_luiz @netflixbrasil ta agora a comunidade precisa ter militante e tudo o resto que uma comunidade da netflix tem quem viu o documentário da netflix revelações muuuito bom sabe que representar crossdresser/trans como assassino já foi muito usado na ficção pra compor caráter maníaco excêntrico de personagem jk rowling não tá muito preocupada em corrigir a fama que ganhou hehehe ministra damares quer proibir lindinhas filme da netflix acusandoo de sexualizar crianças | jornal de alagoas https//tco/kl1rqnomav https//tco/cznc9tx3t1 rt @vxttns  ué mo  cadê a netflix q vc falou\n",
      "\n",
      " a netflix aqui oh https//tco/nsnrgp94tt @pacefeco o que a globo tem a ver com a netflix rt @leandroruschel onde está a justiça brasileira que é rápida ao perseguir um joalheiro que parabenizou menino engraxate por fazer traba… rt @forthollandbw o fandom chegando amanhã na netflix pra assistir tdatt\n",
      "https//tco/wdx5i2tprh never say never no catálogo da netflix pra mostrar que sempre cabe mais uma bomba lá a nova cruzada de @damaresalves é atacar um filme na netflix que faz uma crítica a sexualização de crianças e o que essa fundamentalista picareta e canalha faz distorce e manipula os fatos argumenta que o filme prega a sexualização de meninas o que é uma mentira e 👇🏿 @mariliacoutoesi @o_antagonista audiência de todas as tvs está despencando ninguém mais assiste antigamente a maior fonte de entretenimento e informação eram as emissoras de tv hoje temos netflix amazon zulu e redes sociais informação e entretenimento em tempo real tv já era rt @princessmizzle já tenho o dvd mas tô surtando mesmo assim com never say never na netflix aaaaaaaa https//tco/fkkks31bkm @canaldootario @uolnoticias @damaresalves porra bixo tava procurando essa historia desse video ai que o pessoal tanto fala e ai tao comparando esse vídeo ao tal do netflix\n",
      "\n",
      "vcs se agarram no que podem ne\n",
      "rsrsrs não liga rádio em estação tocando música não que vc pode se surpreender rt @jeremyshadabr ✍️| kenny para o ew\n",
      "\n",
      "todo o processo que nos colocou em estúdio para gravar a trilha sonora e em seguida trazêla à… @alittlemoony_ historiadora é aquele com o eun woo o da netflix em casa não se assiste mais @netflix enquanto esse filme estiver disponível\n",
      "netflixpedofilianão pedofilianao deixemascriancasempaz rt @nerdbunker olha só one piece chega à netflix no dia 12 de outubro \n",
      "https//tco/xlsmlq2ua1 https//tco/ue8a4geedx @marcelloolivr assista o dilema das redes  netflix que fica fácil entender rt @jenxways dia 13 de outubro é o concerto online do bts e dia 14 o documentário do blackpink na netflix os refrescos armyblink nation … @pururucabrotel amg muito chatooooooos cara eu nao aguento nao ao inves de ficar feliz q ta entrando na netflix mais gente vai poder ver eles conseguem ser insuportáveis ai q chatoooooooo e ainda tem alguns q ficam dando spoiler tudo facebookeiro damares goiabeira ignora tanto bolsonaro erotizando menina em live quanto as orgias de sua amiga flôrdelis com os próprios filhos mas promete ataque ao filme “lindinhas” da netflix https//tco/0sflo5awq5 https//tco/qy0gtsmses @4d_pedro vai ver seus programas de youtuber br original netflix finalmente netflix voltou c never say never e vamos de assistir mais 19839228 vezes lá vai eu assistir never say never na netflix pra relembrar a época que eu tinha 10 anos netflix novos episódios dublados de naruto shippuden na netflix  assine a petição https//tco/gbuw6spzy3 via @change_br me amarro em desenho besteirol aí a netflix lança um do mesmo criador de apenas um show acordei assistindo never say never obrigada netflix rt @rileykeoughbr novo pôster da riley keough como sandy henderson em o diabo de cada dia o filme estréia amanhã na plataforma da netflix… @oiiviapoesy @bazaramarshall não enriquece porque netflix ganha por assinatura não por visualização eu assistir hp por lá ou não não faz a mínima diferença pra eles eu já tô pagando a mensalidade mesmo bom diaa e começamos o dia assim térmica de chá do ladoantibiótico e netflix falta só o ranhento pra levantar buscar as coisas p mim rt @bieberportai o documentário never say never já está disponível na netflix 💜🤧 https//tco/jritvovi0e @thamyresbfr @doramasbra alguns tem na netflix e os outros tem no viki ou dramaclub @srh_moon @snowmyoongi amiga teve créditos sim o próprio diretor colocou os créditos nós finais dos episódios menos a netflix rt @westwxrid netflix minha filha renova teenage bounty hunters por favor vai curar minha depressão renewtbh https//tco/uil97htcqg quão burguês safado você é \n",
      "\n",
      "spotify premium✅\n",
      "netflix✅\n",
      "globo play❌\n",
      "amazon prime✅\n",
      "viaja todo ano❌\n",
      "plano de saúde❌\n",
      "tv só sua❌\n",
      "cartão de crédito só seu✅ \n",
      "filho único❌\n",
      "sustentado pelos pais ✅\n",
      "iphone✅ @hicoouto jogo perigoso tem na netflix rt @awaecharts a petição ganhou média de 5757 mil assinaturas em quase 3 dias\n",
      "\n",
      "primeira foto 11/09 1344 pm\n",
      "segunda foto 14/09 0939 a… rt @leandroruschel cara @damaresalves  a senhora já ficou sabendo de filme na plataforma netflix que sexualiza crianças é preciso acabar… rt @hi_ghmami ontem vi o documentário das redes sociais na netflix e agora tou bue reticente em pegar no telemóvel no entanto aqui estou e… rt @lorranessc ocupada por motivos de never say never está na netflix vou sofrer e chorar sozinha🥺✊ https//tco/gg9dbcd7us rt @joestarxs se a gente jojofan de bem já passa por preconceito pq grande parte dos jojofan são uns merda e a gente que nao tem nada a… o surto que chegou never say never na netflix 🥰🥰 pelo menos alguma coisa boa eles colocam https//tco/6s0tqczi5a @alecsilva_ vontade de mandar todo mundo assistir revelação um documentário da netflix com pessoas trans que falam das consequências desse tipo de representação para a comunidade eu tô que é puro ódio dessa mulher @damaresalves sim é preciso divulgar um vídeo institucional que faça quem não entendeu ainda ficar com muita vergonha de defender a veiculação desse panfleto pedófilo chamado de filme lembrando que é uma produção da própria netflix um absurdo sem tamanho tô amando essa internet não da pra jogar lol não dá pra jogar rucoy assistir netflix\n",
      "definitivamente perfeito @marii_paqueta @riqueamaral1 @majugtmm a maioria dos áudios dela eu to esperando virar série na netflix ai eu vejo 😬 @porpimentel eu to falando que to obcecada kkkkkkkkk não vejo a hora da netflix renovar é hype que fala meus amigos\n",
      "será que agora a comunidade vai começar a dar o valor que one piece merece\n",
      "ou ele ainda vai ser só o anime do pirata que estica só que agora na netflix https//tco/unqcebk1ki @devala_peracini @true_sindar @yomatiaspinto @xadrezverbal cara vê o documentário tem na netflix aí tu vai te uma ideia de como é essa torcida organizada que tem orgulho de se autodenominada “a mais racista do mundo” rt @revistaforum damares adere a cruzada contra filme da netflix acusado de erotizar crianças\n",
      "https//tco/ekyehwiww0 anne with an e na netflix chile 🇨🇱 15/09/2020\n",
      "\n",
      "buscas populares — 5\n",
      "\n",
      "top 10 — séries mais assistidas — 6\n",
      "\n",
      "renewannewithane https//tco/wkkcowuano assistindo never say never na netflix mesmo tendo o dvd kshsis @netflixbrasil finalmenteeeee garanto assistir todo dia esse anime maravilindo e espero que o cigarro do sanji não seja um pirulitose for vai ser sacanagem hein netflix rt @chaosinloona o que vocês tem feito\n",
      "\n",
      "🐧 tenho estudado inglês mas ainda tenho um longo caminho pela frente eu comecei a usar a n… quão burguês safado você é \n",
      "\n",
      "spotify premium❌\n",
      "netflix✅\n",
      "globo play❌\n",
      "amazon prime❌\n",
      "viaja todo ano❌\n",
      "plano de saúde❌\n",
      "tv só sua❌\n",
      "cartão de crédito só seu❌\n",
      "filho único❌\n",
      "sustentado pelos pais ✅\n",
      "iphone❌\n",
      "\n",
      "vem cmg 👉👈 https//tco/32icfwkok9 high flying bird 5/10 original netflix dirigido por soderbergh e filmado apenas com iphone tal qual seu longa anterior distúrbio o filme traz uma proposta interessante tomar de volta o basquete para os atletas ainda que só uma finta estratégica  https//tco/d3jfszak7b rt @jouberth19 🚨urgente legisladores do partido republicano do pr donald trump convocam o departamento de justiça para tomar medidas l… eu fico morrendo de vontade de ver netflix durante a aula mas penso no professor e fico com dó e não tenho nem coragem de abrir o aplicativo tive um sonho tão esquisito que parecia que eu tava preso num filme de suspense da netflix deus me livre @kwsoon96 @netflixbrasil já foi renovado amg a netflix comprou a saga inteira o desenho irá ter 4 temporadas só ta faltando lançar a minha netflix não tá paga mdss como eu vou assitir never say never o que vocês tem feito\n",
      "\n",
      "🐧 tenho estudado inglês mas ainda tenho um longo caminho pela frente eu comecei a usar a netflix esses dias\n",
      "\n",
      "🦢 praticar muito com as meninas e me divertir no fact in star fico triste porque o estúdio fica fechado\n",
      "\n",
      "loona @loonatheworld rt @amandx_ @nilsonnetto_ querido diáriohoje me apaixonei pela 9736282639361826 vez pelo nilson neto um menino q nem meus comentários no… @marinexz_ ss mas eles tem a senha da sua netflix n tem @louisbutt tá na netflix com o nome em inglês julie and the phantoms @livia_alvescruz me deu gatilho pq eu já assisti todos os episódios de ursos sem curso no netflix e queria mais bom dia rt @tatikmd entendo as críticas mas gostei de o dilema das redes o filme torna acessível e populariza um problema complexo que bom qu… @talitabarreiro @ivani_vana @uolnoticias @damaresalves ambos os dois fizeram coisas doentias\n",
      "\n",
      "netflix por sexualizar crianças de 11 anos e bolsonaro por fazer piada de teor sexual com uma criança de 10 anos @estadao @brpolitico o que essa  ministreca  diz não se escreve defende a gravidez precoce nas meninas despossuídas num total desrespeito ao eca quer abrir fogo contra a netflix só se for  fogo de palha ela apequena demais aí a bolsonaradapeça pra sair senhora recémlançado na netflix longa conta a história de uma menina senegalesa que passa a integrar um grupo de dança de garotas de sua idade https//tco/a29lryih83 rt @doramasbra entre os doramas que foram pra dona netflix esse ano qual foi o melhor pra você rt @reh_young será mostrado em cinemas de vários países a partir de 2 de setembro cinema  vod nos eua em 23 de outubro e depois para n… @pacefeco criatura informese melhor antes de bostejar por aí\n",
      "\n",
      "a globo não tem nada a ver c/ esse programa \n",
      "\n",
      "é a netflix moço\n",
      "\n",
      "netflix netflix meu amorzinho 😍 https//tco/ukfpfgh1dl rt @sensationcomic amo o efeito manada que o twitter tem principalmente no caso desse filme da netflix passo mal que a galera nem viu o f… eu parei para perceber que estou assistindo um canal no youtube a série sessão de terapia a novela laços de família uma série na netflix e quero muito começar a assistir a última temporada de greys pqp vou ter que dar uma amenizada pois é muito conteúdo na mesma hora 🤯 rt @demori o dilema das redes sair da internet não vai salvar a internet https//tco/pvdoyycf8x por @tatikmd o dinheiro da netflix vem pela assinatura n pela stream https//tco/5xvl6ept6x rt @colombianacmg vou adormecer a ver netflix ou netflix vai adormecer a ver me a mim rt @aforabolsonaro a nova cruzada de @damaresalves é atacar um filme na netflix que faz uma crítica a sexualização de crianças e o que es… hoje eu vou dedicar meu dia vendo filmes\n",
      "me recomendem uns bons aí\n",
      "de preferência que tem na netflix ou prime video @marginavy_18 é pura enganação das grandes indústrias tem até um doc na netflix rt @voltemosdireita @carlazambelli38 ministra damares alves estuda medidas contra cuties filme da netflix que é acusado de sexualizar cri… nada tira da minha cabeça que ela já sabia que ia cancelar o rock in rio alegando fibromialgia pra hitar no documentário da netflix que focou muito nisso change my mind https//tco/lgvmzxqfig os militantes que cancelaram a netflix pelo filme que sexualiza crianças agora estão cancelando a damares porque ela está querendo tirar o filme do ar  eu nunca falei aqui sobre política mas na minha opinião ela nunca ganhou tanto meu apoio esse filme é um absurdo rt @craibeibe inveja de você kkkkkkkkkkkkkkkkkkkkkkkkkkkkkkkkkkkkkkkkkkkkkkkkkkkkkkkk inveja eu tenho é de quem tem celular que tira prin… quero saber quando é q vou poder colocar as pinks de icon na netflix @boatosorg bolsonaristas já estão importando a fake abaixo\n",
      "https//tco/tnrpdhzlgj\n"
     ]
    }
   ],
   "source": [
    "netflix0 = cleanup(textao0.lower())\n",
    "\n",
    "print(netflix0[:])"
   ]
  },
  {
   "cell_type": "code",
   "execution_count": 13,
   "metadata": {},
   "outputs": [],
   "source": [
    "todas_palavras_naorelevantes = netflix0.split()"
   ]
  },
  {
   "cell_type": "code",
   "execution_count": 14,
   "metadata": {},
   "outputs": [
    {
     "data": {
      "text/plain": [
       "0                          rt\n",
       "1                   @yuki_blc\n",
       "2                       agora\n",
       "3                         que\n",
       "4                         one\n",
       "                ...          \n",
       "4257               importando\n",
       "4258                        a\n",
       "4259                     fake\n",
       "4260                   abaixo\n",
       "4261    https//tco/tnrpdhzlgj\n",
       "Length: 4262, dtype: object"
      ]
     },
     "execution_count": 14,
     "metadata": {},
     "output_type": "execute_result"
    }
   ],
   "source": [
    "serie_0 = pd.Series(todas_palavras_naorelevantes)\n",
    "serie_0"
   ]
  },
  {
   "cell_type": "code",
   "execution_count": 15,
   "metadata": {},
   "outputs": [
    {
     "data": {
      "text/plain": [
       "netflix       189\n",
       "a             132\n",
       "de            117\n",
       "que            96\n",
       "o              91\n",
       "             ... \n",
       "trazer          1\n",
       "partido         1\n",
       "programas       1\n",
       "deitada         1\n",
       "importando      1\n",
       "Length: 1614, dtype: int64"
      ]
     },
     "execution_count": 15,
     "metadata": {},
     "output_type": "execute_result"
    }
   ],
   "source": [
    "tabela_naorelevante = serie_0.value_counts()\n",
    "tabela_naorelevante"
   ]
  },
  {
   "cell_type": "code",
   "execution_count": 31,
   "metadata": {},
   "outputs": [
    {
     "name": "stdout",
     "output_type": "stream",
     "text": [
      "{'assistiram': 1, 'damares': 9, 'ver': 20, 'assistir': 15, 'deverá': 1, 'universal': 1, 'assiste': 4, 'assistam': 1, 'never': 46, 'assistido': 2, 'infantil': 2, 'river': 1, 'assisti': 4, 'rever': 1, 'assista': 2, 'assistindo': 6, 'assistidas': 2, 'governo': 1, 'deveriam': 1, 'divertidos': 1, 'tiver': 1, 'assisto': 1, 'pedofilos': 1, '@damaresalves': 6, 'estiver': 1, 'netflixpedofilianão': 1, 'pedofilianao': 1, 'vergonha': 1, '@xadrezverbal': 1, 'divertir': 1}\n"
     ]
    }
   ],
   "source": [
    "#derivacoes_0 = []\n",
    "#for i in serie_0:\n",
    "#    if \"cancel\" in i or \"renov\" in i:\n",
    "#        derivacoes_0.append(i)\n",
    "#print(derivacoes_0)\n",
    "\n",
    "#damares, pedofilia, infantil, ver, assistir\n",
    "\n",
    "derivacoes_0 = {}\n",
    "for i in serie_0:\n",
    "    if \"damares\" in i or \"pedof\" in i or \"infant\" in i or \"ver\" in i or \"assist\" in i:\n",
    "        if i in derivacoes_0.keys():\n",
    "            derivacoes_0[i] += 1\n",
    "        else:\n",
    "            derivacoes_0[i] = 1\n",
    "print(derivacoes_0)"
   ]
  },
  {
   "cell_type": "code",
   "execution_count": 16,
   "metadata": {},
   "outputs": [
    {
     "name": "stdout",
     "output_type": "stream",
     "text": [
      "saiu da netflix q sdd de full house amo muitooo https//tco/ux4t89lxb2 rt @karolcaipira gente vcs tem que entender uma coisa nós não sabemos o que realmente aconteceu pra anne ser cancelada \n",
      "a cbc não quis… @bancadadeleao tive algumas dificuldades com a opção “forward” encravou imensas vezes a app não tem tanta fluidez como a app da netflix @onepiecedadepre finalmente o melhor anime do mundo aparecendo da netflix carai @joaopaulojm16 o dilema das redes documentário novo da netflix achei bem foda e preocupante ao mesmo tempo essa madrugada assistir a serie julie and the phantoms na netflix é bem clichêzinho adolescente feat high school musical adorei hahahahha rt @murislx netflix pra valorizar o trabalho dos artistas que trabalham anos se dedicando a atuação fazendo cursos faculdade e etc🤬🤬🤬🤬🤬… agiliza né @netflix renewtbh https//tco/x1kz0lpfih netflix que aguente a chuva de “cadê os novos episódios” colocando one piece no catálogo irrita me não ter netflix https//tco/shepthy9gz rt @slonespp eu tentando engulir o fato que a netflix ainda não renovou the umbrella academy para a 3 temporada \n",
      "\n",
      "https//tco/whi1uzbrmf rt @uolnoticias damares alves quer proibir filme da netflix acusado de sexualizar crianças https//tco/uy1z2ttzze @vioietdio eu acho que não vai teeeer a netflix quer tirar até mesmo os cigarros do sanji triste fim 😢 rt @luccxgn meu deus warrior nun é uma das melhores séries da netflix e eles não divulgam nada sobre nesse csralhoooo @jornaloglobo netflix é campeã em séries e filmes de conotação sexual e práticas homossexuais  ganha da tv globo  aqui em casa não assinamos @netflixbrasil mais  pirata que estica\n",
      "netflix acertou em cheio https//tco/ibqupe85md https//tco/x7bozkxywk rt @iamnanath elas fizeram tatuagem com as iniciais das personagens vc quer perder todo esse amor netflix renewtbh https//tco/mxuaova… @netflixbrasil obrigada netflix te amo tô chorando pq a @netflixbrasil tirou a melhor série do mundo that70show do catálogo\n",
      "feliz netflix eu estou chorando ok @netflixbrasil ja to chegando no ep 400 mas mesmo assim essa noticia é perfeita  te adoro netflix @netflixbrasil netflix eu te amo dms se vcs fizerem a saga do arlong park eu choro rt @hazztomlinsom gente quando dunkirk sair na netflix a gente pode organizar aqueles negócio de assistir todo mundo junto rt @doramaticas_ a netflix aderiu o nosso  dorama vai brasilllllllllllllllllllllllllllll https//tco/s4bgmi0uy1 aqui recomendo muito um documentário o dilema nas redes na netflix cancelem a netflix agora só vejo disney amo a netflix mas depois disso merece um boicote https//tco/eftuc56yfl rt @renanwilbert @netflixbrasil netflix tá ligada que pro resto da eternidade vão te pedir e os novos episódios de one piece né rt @bolsoregrets @carapanarana é não querido o filme é uma crítica e é muito bom recebeu prêmios e tudo foi muito infeliz da netflix q… @toqfourze ainda acho hilário que a netflix deixou desabilitado os comentários do trailer no brasil só pq eles não queriam dizer que plagiaram a gente kkkkk @rogwrspider eu to taaao ansiosa e a netflix n posta nada eu to agoniada @netflixbrasil vamos apoiar galera todo mundo assistindo pela netflix ai eles vão ver que da retorno e vão trazer mais eps dublados e vamos de globoplay kk fica c deuss netflix https//tco/6dt2xevndc @snowmyoongi eles nem sabem q a história é daqui amg o pessoal falando q a netflix deu créditos mas tudo q eu vi falarem sobre créditos eh no ultimo episodio💀 deveria ser uma das primeiras coisas a aparecer no primeiro\n",
      "\n",
      "tipo baseado na serie br de mesmo nome julie and the ohantoms sla rt @ihcarioquei acho que a netflix deveria fazer uma série sobre a política do estado do rio de janeiro 🤦‍♂️ agora que fui perceber qui minha netflix parou do nd sendo que tá pago kkkkk eu só queria minha netflix de volta😭 @gaudby saudade de pegar aquela filinha de leve pagar 5000 numa pipoca média hahahaha\n",
      "a vibe do cinema nunca será a mesma que um netflix em casa o dilema das redes na netflix é 10/10 e todo mundo deveria ver pelo menos entender um pouco como a gente é usado nesse sistema netflix já foi melhor  rt @storyiaa never say never votou pra netflix \n",
      "já vou separar meus lencinhos de papel https//tco/edylx1xewt\n"
     ]
    }
   ],
   "source": [
    "netflix1 = cleanup(textao1.lower())\n",
    "\n",
    "print(netflix1[:])"
   ]
  },
  {
   "cell_type": "code",
   "execution_count": 17,
   "metadata": {},
   "outputs": [],
   "source": [
    "todas_palavras_relevantes = netflix1.split()"
   ]
  },
  {
   "cell_type": "code",
   "execution_count": 18,
   "metadata": {},
   "outputs": [
    {
     "data": {
      "text/plain": [
       "0                       saiu\n",
       "1                         da\n",
       "2                    netflix\n",
       "3                          q\n",
       "4                        sdd\n",
       "               ...          \n",
       "679                     meus\n",
       "680                lencinhos\n",
       "681                       de\n",
       "682                    papel\n",
       "683    https//tco/edylx1xewt\n",
       "Length: 684, dtype: object"
      ]
     },
     "execution_count": 18,
     "metadata": {},
     "output_type": "execute_result"
    }
   ],
   "source": [
    "serie_1 = pd.Series(todas_palavras_relevantes)\n",
    "serie_1"
   ]
  },
  {
   "cell_type": "code",
   "execution_count": 19,
   "metadata": {},
   "outputs": [
    {
     "data": {
      "text/plain": [
       "netflix      38\n",
       "a            28\n",
       "que          15\n",
       "de           13\n",
       "rt           12\n",
       "             ..\n",
       "@netflix      1\n",
       "madrugada     1\n",
       "foda          1\n",
       "globo         1\n",
       "dorama        1\n",
       "Length: 390, dtype: int64"
      ]
     },
     "execution_count": 19,
     "metadata": {},
     "output_type": "execute_result"
    }
   ],
   "source": [
    "tabela_relevante = serie_1.value_counts()\n",
    "tabela_relevante"
   ]
  },
  {
   "cell_type": "code",
   "execution_count": 37,
   "metadata": {},
   "outputs": [
    {
     "name": "stdout",
     "output_type": "stream",
     "text": [
      "{'saiu': 1, 'cancelada': 1, 'finalmente': 1, 'renovou': 1, 'séries': 2, 'série': 2, 'cancelem': 1}\n"
     ]
    }
   ],
   "source": [
    "#saiu, cancelar, finalmente, renovar, séries\n",
    "\n",
    "#derivacoes_1 = []\n",
    "#for i in serie_1:\n",
    "#    if \"cancel\" in i or \"renov\" in i:\n",
    "#        derivacoes_1.append(i)\n",
    "#print(derivacoes_1)\n",
    "\n",
    "derivacoes_1 = {}\n",
    "for i in serie_1:\n",
    "    if \"saiu\" in i or \"cancel\" in i or \"finalmente\" in i or \"renov\" in i or \"série\" in i:\n",
    "        if i in derivacoes_1.keys():\n",
    "            derivacoes_1[i] += 1\n",
    "        else:\n",
    "            derivacoes_1[i] = 1\n",
    "print(derivacoes_1)"
   ]
  },
  {
   "cell_type": "code",
   "execution_count": 20,
   "metadata": {},
   "outputs": [
    {
     "name": "stdout",
     "output_type": "stream",
     "text": [
      "mano não tem mais nada p assistir na netflix que goste/queira mano 16ª ja ta no globoplay caraaaaio \n",
      "netflix ja é quase seu fim rt @jovisf30 todos os filmes de harry potter no google drive\n",
      "\n",
      "já que a netflix n posta eu posto 100 favs e posto animais fantásticos e on… nesse feriado prolongado eu assisti dois filmes ruins\n",
      " alive e the last days of american crime\n",
      "as vezes eu me arrependo de pagar caro na netflix rt @wahlianna netflix be like\n",
      "\n",
      "cenas com personagens fumando 😡😠😡😡🤬😤😤👎🚭🚭❌❌🚫🔞😖😣😱🚫🚫🚩🚩👎😯😮🤬🚭🚭🚭\n",
      "\n",
      "cenas sexualizando crianças 😂😏😏😍😍😈💗💞👅👍❤️❤️✅😊🤗🤩… eu estava na tour de subir hashtag pra netflix comprar e fazer a segunda temporada de julie e os fantasmas mas néé gostam de pegar as coisas boas de outros países e fazer do jeito deles @damaresalves parabéns ministra damares alves por seu posicionamento contra a pedofilia também peço a vc que notifique a netflix contra o comercial erótico que a empresa está exibindo \n",
      "@jairbolsonaro \n",
      "@damaresalves \n",
      "@amendoncamjsp rt @detailsaluado netflix estragou meus casais lgbtq para sexualizar crianças \n",
      "https//tco/figl9s8ase kanye bem que poderia lançar um documentário em parceria com a netflix @jornaloglobo esse críticos tem sérios problemas psicológicosfalar q isso aqui é arte realmente estão loucosclaramente a netflix esta patrocinando a pedofilia netflixpedofilia https//tco/nfru6qgyum @damaresalves estamos com vc bora levantar uma  contra netflix @gomesluanae globoplay tá compensando muuuito mais que a netflix netflix sendo racista em renegociar valores com todos os atores menos um ator negro de uma série sobre racismo zero surpresas caso você tenha esquecido enquanto a netflix está lutando com unhas e dentes para defender seu direito de transmitir um filme pornográfico infantil eles baniram e o vento levou porque ofendeu um bando de guerreiros da justiça social rt @andreilfierro critiquem o filme e a netflix sim porque o que só a ideia do filme é repugnante e pedófila mas não assistam ao filme n… eu   to chorrando pq não  tenho assinatura do globo play  e na amazon  não  saiu greys anatomy e nem na netflix https//tco/bxzheldnfg @xmaifoy @patronoxs enquanto isso a netflix está cancelando séries interessantes e colocando vih tube🤡 rt @criticanac uma produção cinematográfica que na prática estimula e incentiva a pedhophylia  \n",
      "\n",
      "https//tco/we6rn3gtn5 @damaresalves a netflix tbm precisa freio ultrapassou esse limite @subcores a app da disney está melhor que a da hbo mas pior que a da netflix que continua a ser muito boa @70sgrey netflix tá me enchendo tanto o saco rt @jesscfr18 tinha que ter a fazenda 6 disponível na netflix ngm nunca vai superar andressa urach no barraco melhor série q assisti esse ano netflix foi puramente burra cancelando https//tco/chbdshixzi @jufreirelima amiga vai assistir avatar agora \n",
      "na netflix tem a lenda de aang e na amazon tem a lenda de korra rt @gomesluanae mano 16ª ja ta no globoplay caraaaaio \n",
      "netflix ja é quase seu fim para quem tem disney vale a pena deixar de ter netflix para ter disney @marcusa28830831 @brasil247 @mrciasantosram1 se a netflix falir tô nem aí\n",
      "a netflix não governa o eu país\n",
      "não me envergonha numa live com meininha de 10 anos fazendo pergunta maldosa\n",
      "anetflix é só uma empresa\n",
      "ja o presidenteé meu funcionário governa meu país\n",
      "a ministra vai fechar os olhos na conivência @netflixbrasil traz haikyuu e fairy tail netflix nunca te pedi nd primeira vez q to comentando no seu post😔🙏 rt @oiiviapoesy por favor não assistam harry potter na netflix procurem em sites piratas qualquer coisa mas não assistam na netflix ca… @netflixbrasil titia netflix libera haikyuu pros otaku brkkkkkkkk\n",
      "a galera de portugal e dos estados unidos tem\n",
      "por aue a gente não tem expliquese\n",
      "shuahsuhashaush rt @biebernovidade saiu o filme never say never está disponível na netflix corram assistir 🎞 https//tco/s4fap6hhyb a partir do momento que curtindo a vida adoidado vai sair da netflix minha vida não faz mais sentido rt @_tol3do_ oque a netflix lançou/// oque queremos \n",
      "caralho netflix lança logo a temp 16 de greys anatomy https//tco/vrr0rlavyw gente eu vou desfazer minha assinatura na netflix minha prioridade é greys https//tco/pivsopd1pa rt @fanaticsgreys eu   to chorrando pq não  tenho assinatura do globo play  e na amazon  não  saiu greys anatomy e nem na netflix https//… elas estao taoooo lindas eu to muito triste por sair logo na netflix  essa empresa ta fazendo tanta merda que eu me recuso a dar streaming  rt @isalipertin e bora encher o saco da netflix pra renovar caçadoras de recompensar porque se eles cancelarem eu morro renewtbh https//… bom dia hoje acordei pensando que não vou saber oq aconteceu depois da frase ash vc gosta do stick pq a netflix eh tóxica e cancelou a minha série péssimo dia pra vcs✨✨✨ @netflixbrasil @netflix coloca a era do gelo no catálogo please gente aproveitando q greys anatomy está nas trends eu queria saber onde q assiste a 16 temporada pq não tem na netflix  meu deus lembrei que a ultima temporada de baby lança amanhã na netflix ai to leve rt @camarotedasagui hoje estreia a season finale de baby na netflix por favor não falem comigo me deixa quieta no meu canto a netflix tirou once upon a time que porraa eu estava vemdo a terceira temporada que ódio @grazisaragossah mangá já n é muito minha praia mas o seriado eu comecei a última temporada recente pq tava com preguiça pq as temporada que tinha na netflix quando eu vi acabei tudo em 1 dia  rt @kidrauhlhive o filme never say never do justin bieber voltou para netflix quem vai assistir https//tco/vx5au9dkjl krl cade a continuaçao de o principe dragao a netflix ta de sacanagem com a minha cara @netflixbrasil eu tava enrolando p começar a assistir mas já q a nss netflix vai lançar algns eps eu vou ter a obrigação de olhar vem aí mais uma obra merda que fica associando pessoas trans à crime ou transtornos mentais tudo isso é retratado no documentário disclosure que tem no netflix assistam é uma aula https//tco/b4hcyzermi netflix tirou relâmpago marquinhos do catálogo 😡😡 @netovisky trilogia de senhor dos anéis disponível na netflix rt @denise_rm_ bom dia povo🌹🇧🇷\n",
      "menos p a netflix  que está fazendo de tudo p manter o filme de criança com dancinha sexy mas baniu e o… rt @awaecharts anne with an e na netflix chile 🇨🇱 15/09/2020\n",
      "\n",
      "buscas populares — 5\n",
      "\n",
      "top 10 — séries mais assistidas — 6\n",
      "\n",
      "renewannewi… rt @baptistafairy eu tô muito sedenta pela segunda temporada de warrior nun agiliza aí netflix https//tco/f11hpezhqr @netflixbrasil netflix querida vê se consegue trazer bakuman 🙏🏽🙏🏽\n"
     ]
    }
   ],
   "source": [
    "netflix2 = cleanup(textao2.lower())\n",
    "\n",
    "print(netflix2[:])"
   ]
  },
  {
   "cell_type": "code",
   "execution_count": 21,
   "metadata": {},
   "outputs": [],
   "source": [
    "todas_palavras_muitorelevantes = netflix2.split()"
   ]
  },
  {
   "cell_type": "code",
   "execution_count": 22,
   "metadata": {
    "scrolled": true
   },
   "outputs": [
    {
     "data": {
      "text/plain": [
       "0           mano\n",
       "1            não\n",
       "2            tem\n",
       "3           mais\n",
       "4           nada\n",
       "          ...   \n",
       "1069          se\n",
       "1070    consegue\n",
       "1071      trazer\n",
       "1072     bakuman\n",
       "1073        🙏🏽🙏🏽\n",
       "Length: 1074, dtype: object"
      ]
     },
     "execution_count": 22,
     "metadata": {},
     "output_type": "execute_result"
    }
   ],
   "source": [
    "serie_2 = pd.Series(todas_palavras_muitorelevantes)\n",
    "serie_2"
   ]
  },
  {
   "cell_type": "code",
   "execution_count": 23,
   "metadata": {},
   "outputs": [
    {
     "data": {
      "text/plain": [
       "netflix    55\n",
       "a          51\n",
       "de         25\n",
       "na         23\n",
       "e          23\n",
       "           ..\n",
       "app         1\n",
       "with        1\n",
       "queria      1\n",
       "feriado     1\n",
       "valores     1\n",
       "Length: 534, dtype: int64"
      ]
     },
     "execution_count": 23,
     "metadata": {},
     "output_type": "execute_result"
    }
   ],
   "source": [
    "tabela_muitorelevante = serie_2.value_counts()\n",
    "tabela_muitorelevante"
   ]
  },
  {
   "cell_type": "code",
   "execution_count": 36,
   "metadata": {},
   "outputs": [
    {
     "name": "stdout",
     "output_type": "stream",
     "text": [
      "{'globoplay': 3, 'sexualizando': 1, 'crianças': 2, '@damaresalves': 4, 'damares': 1, 'sexualizar': 1, 'assinatura': 3, 'greys': 5, 'disney': 3, '@fanaticsgreys': 1, 'criança': 1}\n"
     ]
    }
   ],
   "source": [
    "#globoplay, sexualizar, crianças, damares, disney, assinatura, greys\n",
    "\n",
    "#derivacoes_2 = []\n",
    "#for i in serie_2:\n",
    "#    if \"cancel\" in i or \"renov\" in i:\n",
    "#        derivacoes_2.append(i)\n",
    "#print(derivacoes_2)\n",
    "\n",
    "derivacoes_2 = {}\n",
    "for i in serie_2:\n",
    "    if \"globoplay\" in i or \"sexual\" in i or \"criança\" in i or \"damares\" in i or \"disney\" in i or \"assin\" in i or \"greys\" in i:\n",
    "        if i in derivacoes_2.keys():\n",
    "            derivacoes_2[i] += 1\n",
    "        else:\n",
    "            derivacoes_2[i] = 1\n",
    "print(derivacoes_2)"
   ]
  },
  {
   "cell_type": "markdown",
   "metadata": {},
   "source": [
    "___\n",
    "### Verificando a performance do Classificador\n",
    "\n",
    "Agora você deve testar o seu classificador com a base de Testes."
   ]
  },
  {
   "cell_type": "code",
   "execution_count": 24,
   "metadata": {},
   "outputs": [
    {
     "ename": "SyntaxError",
     "evalue": "invalid syntax (<ipython-input-24-9831e56ee25e>, line 1)",
     "output_type": "error",
     "traceback": [
      "\u001b[1;36m  File \u001b[1;32m\"<ipython-input-24-9831e56ee25e>\"\u001b[1;36m, line \u001b[1;32m1\u001b[0m\n\u001b[1;33m    probabilidade em relevante/ laplace\u001b[0m\n\u001b[1;37m                  ^\u001b[0m\n\u001b[1;31mSyntaxError\u001b[0m\u001b[1;31m:\u001b[0m invalid syntax\n"
     ]
    }
   ],
   "source": [
    "probabilidade em relevante/ laplace"
   ]
  },
  {
   "cell_type": "code",
   "execution_count": null,
   "metadata": {},
   "outputs": [],
   "source": []
  },
  {
   "cell_type": "code",
   "execution_count": null,
   "metadata": {},
   "outputs": [],
   "source": []
  },
  {
   "cell_type": "markdown",
   "metadata": {},
   "source": [
    "___\n",
    "### Concluindo"
   ]
  },
  {
   "cell_type": "code",
   "execution_count": null,
   "metadata": {},
   "outputs": [],
   "source": []
  },
  {
   "cell_type": "code",
   "execution_count": null,
   "metadata": {},
   "outputs": [],
   "source": []
  },
  {
   "cell_type": "markdown",
   "metadata": {},
   "source": [
    "___\n",
    "## Aperfeiçoamento:\n",
    "\n",
    "Os trabalhos vão evoluir em conceito dependendo da quantidade de itens avançados:\n",
    "\n",
    "* Limpar: \\n, :, \", ', (, ), etc SEM remover emojis\n",
    "* Corrigir separação de espaços entre palavras e emojis ou entre emojis e emojis\n",
    "* Propor outras limpezas e transformações que não afetem a qualidade da informação ou classificação\n",
    "* Criar categorias intermediárias de relevância baseadas na probabilidade: ex.: muito relevante, relevante, neutro, irrelevante, muito irrelevante (3 categorias: C, mais categorias conta para B)\n",
    "* Explicar por que não posso usar o próprio classificador para gerar mais amostras de treinamento\n",
    "* Propor diferentes cenários para Naïve Bayes fora do contexto do projeto\n",
    "* Sugerir e explicar melhorias reais com indicações concretas de como implementar (indicar como fazer e indicar material de pesquisa)\n",
    "* Montar um dashboard que realiza análise de sentimento e visualiza estes dados"
   ]
  },
  {
   "cell_type": "markdown",
   "metadata": {},
   "source": [
    "___\n",
    "## Referências"
   ]
  },
  {
   "cell_type": "markdown",
   "metadata": {},
   "source": [
    "[Naive Bayes and Text Classification](https://arxiv.org/pdf/1410.5329.pdf)  **Mais completo**\n",
    "\n",
    "[A practical explanation of a Naive Bayes Classifier](https://monkeylearn.com/blog/practical-explanation-naive-bayes-classifier/) **Mais simples**"
   ]
  },
  {
   "cell_type": "code",
   "execution_count": null,
   "metadata": {},
   "outputs": [],
   "source": [
    "#http://www.nltk.org/howto/portuguese_en.html "
   ]
  },
  {
   "cell_type": "code",
   "execution_count": null,
   "metadata": {},
   "outputs": [],
   "source": []
  }
 ],
 "metadata": {
  "kernelspec": {
   "display_name": "Python 3",
   "language": "python",
   "name": "python3"
  },
  "language_info": {
   "codemirror_mode": {
    "name": "ipython",
    "version": 3
   },
   "file_extension": ".py",
   "mimetype": "text/x-python",
   "name": "python",
   "nbconvert_exporter": "python",
   "pygments_lexer": "ipython3",
   "version": "3.8.3"
  }
 },
 "nbformat": 4,
 "nbformat_minor": 4
}
